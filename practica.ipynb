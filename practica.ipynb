{
 "cells": [
  {
   "cell_type": "markdown",
   "id": "46d7ed6f",
   "metadata": {},
   "source": [
    "# Configuracion Inicial"
   ]
  },
  {
   "cell_type": "markdown",
   "id": "fe8f33f7",
   "metadata": {},
   "source": [
    "### Importar Librerias"
   ]
  },
  {
   "cell_type": "code",
   "execution_count": 1,
   "id": "3d62daed",
   "metadata": {},
   "outputs": [],
   "source": [
    "import os\n",
    "from dotenv import load_dotenv          # PARA VARIABLES DE ENTORNO\n",
    "import pandas as pd                     # PARA MANIPULACION DE ARCHIVOS\n",
    "import pyodbc                           # PARA CONEXION CON BASE DE DATOS\n",
    "import numpy as np                      # PARA CALCULOS MATEMATICOS\n",
    "import seaborn as sns                   # PARA GRAFICAS ATRACTIVAS E INFORMATIVAS\n",
    "import matplotlib.pyplot as plt         # PARA GRAFICOS"
   ]
  },
  {
   "cell_type": "markdown",
   "id": "d99bb3ce",
   "metadata": {},
   "source": [
    "### Carga de Variables de Entorno"
   ]
  },
  {
   "cell_type": "code",
   "execution_count": 2,
   "id": "aec8e71a",
   "metadata": {},
   "outputs": [],
   "source": [
    "load_dotenv()\n",
    "\n",
    "DBHOST = os.getenv(\"DB_HOST\")\n",
    "DBNAME = os.getenv(\"DB_NAME\")\n",
    "DB_USER = os.getenv(\"DB_USER\")\n",
    "DB_PASSWORD = os.getenv(\"DB_PASSWORD\")\n",
    "DB_TABLE = os.getenv(\"DB_TABLE\")"
   ]
  },
  {
   "cell_type": "markdown",
   "id": "9eae3916",
   "metadata": {},
   "source": [
    "### Conexion con base de datos"
   ]
  },
  {
   "cell_type": "code",
   "execution_count": 3,
   "id": "14489479",
   "metadata": {},
   "outputs": [
    {
     "name": "stdout",
     "output_type": "stream",
     "text": [
      "Conexión exitosa a SQL Server\n"
     ]
    }
   ],
   "source": [
    "connection = pyodbc.connect(\n",
    "    f'DRIVER={{ODBC Driver 17 for SQL Server}};'\n",
    "    f'SERVER={DBHOST};'\n",
    "    f'DATABASE={DBNAME};'\n",
    "    f'UID={DB_USER};'\n",
    "    f'PWD={DB_PASSWORD}'\n",
    ")\n",
    "cursor = connection.cursor()\n",
    "print(\"Conexión exitosa a SQL Server\")"
   ]
  },
  {
   "cell_type": "markdown",
   "id": "c23c6e8f",
   "metadata": {},
   "source": [
    "# 1. Preparación de datos: "
   ]
  },
  {
   "cell_type": "markdown",
   "id": "bba0fd94",
   "metadata": {},
   "source": [
    "### a. Extraer los datos del archivo .csv."
   ]
  },
  {
   "cell_type": "code",
   "execution_count": null,
   "id": "bce8a114",
   "metadata": {},
   "outputs": [
    {
     "data": {
      "text/html": [
       "<div>\n",
       "<style scoped>\n",
       "    .dataframe tbody tr th:only-of-type {\n",
       "        vertical-align: middle;\n",
       "    }\n",
       "\n",
       "    .dataframe tbody tr th {\n",
       "        vertical-align: top;\n",
       "    }\n",
       "\n",
       "    .dataframe thead th {\n",
       "        text-align: right;\n",
       "    }\n",
       "</style>\n",
       "<table border=\"1\" class=\"dataframe\">\n",
       "  <thead>\n",
       "    <tr style=\"text-align: right;\">\n",
       "      <th></th>\n",
       "      <th>order_id</th>\n",
       "      <th>purchase_date</th>\n",
       "      <th>customer_id</th>\n",
       "      <th>customer_gender</th>\n",
       "      <th>customer_age</th>\n",
       "      <th>product_category</th>\n",
       "      <th>product_name</th>\n",
       "      <th>product_price</th>\n",
       "      <th>quantity</th>\n",
       "      <th>order_total</th>\n",
       "      <th>payment_method</th>\n",
       "      <th>shipping_region</th>\n",
       "    </tr>\n",
       "  </thead>\n",
       "  <tbody>\n",
       "    <tr>\n",
       "      <th>0</th>\n",
       "      <td>96</td>\n",
       "      <td>8/12/23</td>\n",
       "      <td>822</td>\n",
       "      <td>Masculino</td>\n",
       "      <td>18.0</td>\n",
       "      <td>Accesorios</td>\n",
       "      <td>Bolso</td>\n",
       "      <td>90.72</td>\n",
       "      <td>3</td>\n",
       "      <td>272.16</td>\n",
       "      <td>PayPal</td>\n",
       "      <td>Oeste</td>\n",
       "    </tr>\n",
       "    <tr>\n",
       "      <th>1</th>\n",
       "      <td>142</td>\n",
       "      <td>3/09/23</td>\n",
       "      <td>139</td>\n",
       "      <td>Femenino</td>\n",
       "      <td>18.0</td>\n",
       "      <td>Ropa</td>\n",
       "      <td>Pantalón</td>\n",
       "      <td>131.68</td>\n",
       "      <td>3</td>\n",
       "      <td>395.04</td>\n",
       "      <td>PayPal</td>\n",
       "      <td>Oeste</td>\n",
       "    </tr>\n",
       "    <tr>\n",
       "      <th>2</th>\n",
       "      <td>216</td>\n",
       "      <td>24/08/23</td>\n",
       "      <td>86</td>\n",
       "      <td>Masculino</td>\n",
       "      <td>18.0</td>\n",
       "      <td>Calzado</td>\n",
       "      <td>Zapatillas</td>\n",
       "      <td>36.18</td>\n",
       "      <td>1</td>\n",
       "      <td>36.18</td>\n",
       "      <td>Transferencia bancaria</td>\n",
       "      <td>Este</td>\n",
       "    </tr>\n",
       "    <tr>\n",
       "      <th>3</th>\n",
       "      <td>235</td>\n",
       "      <td>15/03/23</td>\n",
       "      <td>473</td>\n",
       "      <td>Masculino</td>\n",
       "      <td>18.0</td>\n",
       "      <td>Ropa</td>\n",
       "      <td>Vestido</td>\n",
       "      <td>78.55</td>\n",
       "      <td>5</td>\n",
       "      <td>392.75</td>\n",
       "      <td>Transferencia bancaria</td>\n",
       "      <td>Centro</td>\n",
       "    </tr>\n",
       "    <tr>\n",
       "      <th>4</th>\n",
       "      <td>284</td>\n",
       "      <td>24/04/23</td>\n",
       "      <td>113</td>\n",
       "      <td>Masculino</td>\n",
       "      <td>18.0</td>\n",
       "      <td>Calzado</td>\n",
       "      <td>Sandalias</td>\n",
       "      <td>116.37</td>\n",
       "      <td>1</td>\n",
       "      <td>116.37</td>\n",
       "      <td>Tarjeta de crédito</td>\n",
       "      <td>Norte</td>\n",
       "    </tr>\n",
       "  </tbody>\n",
       "</table>\n",
       "</div>"
      ],
      "text/plain": [
       "   order_id purchase_date  customer_id customer_gender  customer_age  \\\n",
       "0        96       8/12/23          822       Masculino          18.0   \n",
       "1       142       3/09/23          139        Femenino          18.0   \n",
       "2       216      24/08/23           86       Masculino          18.0   \n",
       "3       235      15/03/23          473       Masculino          18.0   \n",
       "4       284      24/04/23          113       Masculino          18.0   \n",
       "\n",
       "  product_category product_name  product_price  quantity  order_total  \\\n",
       "0       Accesorios        Bolso          90.72         3       272.16   \n",
       "1             Ropa     Pantalón         131.68         3       395.04   \n",
       "2          Calzado   Zapatillas          36.18         1        36.18   \n",
       "3             Ropa      Vestido          78.55         5       392.75   \n",
       "4          Calzado    Sandalias         116.37         1       116.37   \n",
       "\n",
       "           payment_method shipping_region  \n",
       "0                  PayPal           Oeste  \n",
       "1                  PayPal           Oeste  \n",
       "2  Transferencia bancaria            Este  \n",
       "3  Transferencia bancaria          Centro  \n",
       "4      Tarjeta de crédito           Norte  "
      ]
     },
     "execution_count": 4,
     "metadata": {},
     "output_type": "execute_result"
    }
   ],
   "source": [
    "df = pd.read_csv(\"archivo.csv\") #nombre de nuestro archivo de carga\n",
    "df.head()"
   ]
  },
  {
   "cell_type": "markdown",
   "id": "060e9ddb",
   "metadata": {},
   "source": [
    "### b. Verificar si hay valores faltantes o duplicados y decidir cómo manejarlos."
   ]
  },
  {
   "cell_type": "code",
   "execution_count": null,
   "id": "0623d8a8",
   "metadata": {},
   "outputs": [
    {
     "name": "stdout",
     "output_type": "stream",
     "text": [
      "Valores faltantes por columna:\n",
      "order_id             0\n",
      "purchase_date        0\n",
      "customer_id          0\n",
      "customer_gender      4\n",
      "customer_age         2\n",
      "product_category     2\n",
      "product_name        16\n",
      "product_price        1\n",
      "quantity             0\n",
      "order_total          0\n",
      "payment_method       2\n",
      "shipping_region      0\n",
      "dtype: int64\n",
      "Número de filas duplicadas: 2\n"
     ]
    }
   ],
   "source": [
    "print(\"Valores faltantes por columna:\")\n",
    "print(df.isnull().sum())\n",
    "\n",
    "# Filas duplicadas\n",
    "print(\"Número de filas duplicadas:\", df.duplicated().sum())\n",
    "\n",
    "# eliminamos filas con valores faltantes y duplicados\n",
    "df = df.dropna()\n",
    "df = df.drop_duplicates()"
   ]
  },
  {
   "cell_type": "markdown",
   "id": "42f593b3",
   "metadata": {},
   "source": [
    "### c. Asegurarse de que los tipos de datos sean correctos para cada columna."
   ]
  },
  {
   "cell_type": "code",
   "execution_count": 6,
   "id": "2661b4b6",
   "metadata": {},
   "outputs": [
    {
     "name": "stderr",
     "output_type": "stream",
     "text": [
      "C:\\Users\\cutza\\AppData\\Local\\Temp\\ipykernel_19692\\1039086035.py:2: UserWarning: Could not infer format, so each element will be parsed individually, falling back to `dateutil`. To ensure parsing is consistent and as-expected, please specify a format.\n",
      "  df['purchase_date'] = pd.to_datetime(df['purchase_date'], errors='coerce')\n"
     ]
    },
    {
     "data": {
      "text/plain": [
       "order_id                    object\n",
       "purchase_date       datetime64[ns]\n",
       "customer_id                 object\n",
       "customer_gender           category\n",
       "customer_age               float64\n",
       "product_category          category\n",
       "product_name                object\n",
       "product_price              float64\n",
       "quantity                     int64\n",
       "order_total                float64\n",
       "payment_method            category\n",
       "shipping_region           category\n",
       "dtype: object"
      ]
     },
     "execution_count": 6,
     "metadata": {},
     "output_type": "execute_result"
    }
   ],
   "source": [
    "df['order_id'] = df['order_id'].astype(str)\n",
    "df['purchase_date'] = pd.to_datetime(df['purchase_date'], errors='coerce')\n",
    "df['customer_id'] = df['customer_id'].astype(str)\n",
    "df['customer_gender'] = df['customer_gender'].astype('category')\n",
    "df['customer_age'] = pd.to_numeric(df['customer_age'], errors='coerce')\n",
    "df['product_category'] = df['product_category'].astype('category')\n",
    "df['product_name'] = df['product_name'].astype(str)\n",
    "df['product_price'] = pd.to_numeric(df['product_price'], errors='coerce')\n",
    "df['quantity'] = pd.to_numeric(df['quantity'], errors='coerce')\n",
    "df['order_total'] = pd.to_numeric(df['order_total'], errors='coerce')\n",
    "df['payment_method'] = df['payment_method'].astype('category')\n",
    "df['shipping_region'] = df['shipping_region'].astype('category')\n",
    "\n",
    "# Revisar tipos\n",
    "df.dtypes\n"
   ]
  },
  {
   "cell_type": "markdown",
   "id": "989ca6a7",
   "metadata": {},
   "source": [
    "### d. Cargar los datos a una base de datos SQL en la nube."
   ]
  },
  {
   "cell_type": "code",
   "execution_count": null,
   "id": "3a2f1456",
   "metadata": {},
   "outputs": [
    {
     "name": "stdout",
     "output_type": "stream",
     "text": [
      "Datos cargados correctamente a la tabla 'order_data'\n"
     ]
    }
   ],
   "source": [
    "# Crear tabla si no existe\n",
    "create_table_query = f\"\"\"\n",
    "IF OBJECT_ID('{DB_TABLE}', 'U') IS NULL\n",
    "CREATE TABLE {DB_TABLE} (\n",
    "    order_id NVARCHAR(50),\n",
    "    purchase_date DATETIME,\n",
    "    customer_id NVARCHAR(50),\n",
    "    customer_gender NVARCHAR(10),\n",
    "    customer_age INT,\n",
    "    product_category NVARCHAR(50),\n",
    "    product_name NVARCHAR(100),\n",
    "    product_price FLOAT,\n",
    "    quantity INT,\n",
    "    order_total FLOAT,\n",
    "    payment_method NVARCHAR(50),\n",
    "    shipping_region NVARCHAR(50)\n",
    ")\n",
    "\"\"\"\n",
    "cursor.execute(create_table_query)\n",
    "connection.commit()\n",
    "\n",
    "# carga masiva de los datos\n",
    "cursor.fast_executemany = True\n",
    "\n",
    "insert_query = f\"\"\"\n",
    "INSERT INTO {DB_TABLE} (\n",
    "    order_id, purchase_date, customer_id, customer_gender,\n",
    "    customer_age, product_category, product_name,\n",
    "    product_price, quantity, order_total,\n",
    "    payment_method, shipping_region\n",
    ") VALUES (?, ?, ?, ?, ?, ?, ?, ?, ?, ?, ?, ?)\n",
    "\"\"\"\n",
    "\n",
    "# Convertir DataFrame a lista de tuplas\n",
    "data_tuples = list(df.itertuples(index=False, name=None))\n",
    "\n",
    "# Insertar todos los datos de una sola vez\n",
    "cursor.executemany(insert_query, data_tuples)\n",
    "connection.commit()\n",
    "\n",
    "print(f\"Datos cargados correctamente '{DB_TABLE}'\")\n"
   ]
  },
  {
   "cell_type": "markdown",
   "id": "a2b0b98b",
   "metadata": {},
   "source": [
    "# 2. Analisis Exploratorio"
   ]
  },
  {
   "cell_type": "markdown",
   "id": "63b1924c",
   "metadata": {},
   "source": [
    "### a. Obtener los datos de la base de datos. "
   ]
  },
  {
   "cell_type": "code",
   "execution_count": null,
   "id": "c9d02657",
   "metadata": {},
   "outputs": [],
   "source": []
  },
  {
   "cell_type": "markdown",
   "id": "6ae7078c",
   "metadata": {},
   "source": [
    "### b. Calcular estadísticas básicas (media, mediana, moda) para las variables numéricas."
   ]
  },
  {
   "cell_type": "code",
   "execution_count": null,
   "id": "57f47a33",
   "metadata": {},
   "outputs": [],
   "source": []
  },
  {
   "cell_type": "markdown",
   "id": "db3fa05f",
   "metadata": {},
   "source": [
    "### c. Crear visualizaciones para mostrar la distribución de ventas por categoría de producto y región. "
   ]
  },
  {
   "cell_type": "code",
   "execution_count": null,
   "id": "0939f394",
   "metadata": {},
   "outputs": [],
   "source": []
  },
  {
   "cell_type": "markdown",
   "id": "49ea39ab",
   "metadata": {},
   "source": [
    "# 3. Análisis de tendencias:"
   ]
  },
  {
   "cell_type": "markdown",
   "id": "20613337",
   "metadata": {},
   "source": [
    "### a. Determinar los meses con mayores y menores ventas."
   ]
  },
  {
   "cell_type": "markdown",
   "id": "126ffd85",
   "metadata": {},
   "source": [
    "### b. Identificar los productos más vendidos y los menos populares. "
   ]
  },
  {
   "cell_type": "markdown",
   "id": "086ba5fe",
   "metadata": {},
   "source": [
    "# 4. Segmentación de clientes:"
   ]
  },
  {
   "cell_type": "markdown",
   "id": "a474e37e",
   "metadata": {},
   "source": [
    "### a. Agrupar a los clientes por edad y analizar sus patrones de compra."
   ]
  },
  {
   "cell_type": "markdown",
   "id": "7f4ac3fc",
   "metadata": {},
   "source": [
    "### b. Comparar el comportamiento de compra entre géneros."
   ]
  },
  {
   "cell_type": "markdown",
   "id": "85d69903",
   "metadata": {},
   "source": [
    "# 5. Análisis de correlación: "
   ]
  },
  {
   "cell_type": "markdown",
   "id": "0fc3d951",
   "metadata": {},
   "source": [
    "### a. Investigar si existe una relación entre el total de la orden y la edad del cliente."
   ]
  },
  {
   "cell_type": "markdown",
   "id": "225e8097",
   "metadata": {},
   "source": [
    "### b. Examinar si hay una correlación entre la categoría del producto y el método de pago preferido."
   ]
  },
  {
   "cell_type": "markdown",
   "id": "0f2880f4",
   "metadata": {},
   "source": [
    "# 6. Visualización de datos: "
   ]
  },
  {
   "cell_type": "markdown",
   "id": "6af4b6c9",
   "metadata": {},
   "source": [
    "### a. Crear al menos siete gráficos diferentes (por ejemplo, gráfico de barras, gráfico de dispersión, gráfico de líneas) para representar los hallazgos más importantes."
   ]
  },
  {
   "cell_type": "markdown",
   "id": "b6a91842",
   "metadata": {},
   "source": [
    "# 7. Conclusiones y recomendaciones: "
   ]
  },
  {
   "cell_type": "markdown",
   "id": "46ae3912",
   "metadata": {},
   "source": [
    "### a. Basándose en el análisis realizado, proporcionar al menos cuatro conclusiones clave sobre las ventas y el comportamiento de los clientes."
   ]
  },
  {
   "cell_type": "markdown",
   "id": "77382cd8",
   "metadata": {},
   "source": [
    "### b. Sugerir dos acciones concretas por estudiante que la empresa podría tomar para mejorar sus ventas o la satisfacción del cliente."
   ]
  },
  {
   "cell_type": "markdown",
   "id": "f75c4455",
   "metadata": {},
   "source": [
    "# 8. Responder a las preguntas:"
   ]
  },
  {
   "cell_type": "markdown",
   "id": "9f34c212",
   "metadata": {},
   "source": [
    "### a. ¿Cómo podrían los insights obtenidos ayudar a diferenciarse de la competencia?"
   ]
  },
  {
   "cell_type": "markdown",
   "id": "c405b559",
   "metadata": {},
   "source": [
    "### b. ¿Qué decisiones estratégicas podrían tomarse basándose en este análisis para aumentar las ventas y la satisfacción del cliente?"
   ]
  },
  {
   "cell_type": "markdown",
   "id": "7537cf23",
   "metadata": {},
   "source": [
    "### c. ¿Cómo podría este análisis de datos ayudar a la empresa a ahorrar costos o mejorar la eficiencia operativa?"
   ]
  },
  {
   "cell_type": "markdown",
   "id": "3f250256",
   "metadata": {},
   "source": [
    "### d. ¿Qué datos adicionales recomendarían recopilar para obtener insights aún más valiosos en el futuro?"
   ]
  }
 ],
 "metadata": {
  "kernelspec": {
   "display_name": "venv",
   "language": "python",
   "name": "python3"
  },
  "language_info": {
   "codemirror_mode": {
    "name": "ipython",
    "version": 3
   },
   "file_extension": ".py",
   "mimetype": "text/x-python",
   "name": "python",
   "nbconvert_exporter": "python",
   "pygments_lexer": "ipython3",
   "version": "3.13.1"
  }
 },
 "nbformat": 4,
 "nbformat_minor": 5
}
